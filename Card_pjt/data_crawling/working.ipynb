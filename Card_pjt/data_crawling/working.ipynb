{
 "cells": [
  {
   "cell_type": "code",
   "execution_count": 3,
   "metadata": {},
   "outputs": [
    {
     "name": "stdout",
     "output_type": "stream",
     "text": [
      "Requirement already satisfied: selenium in c:\\users\\ssafy\\appdata\\local\\programs\\python\\python39\\lib\\site-packages (4.11.2)\n",
      "Requirement already satisfied: trio~=0.17 in c:\\users\\ssafy\\appdata\\local\\programs\\python\\python39\\lib\\site-packages (from selenium) (0.22.2)\n",
      "Requirement already satisfied: trio-websocket~=0.9 in c:\\users\\ssafy\\appdata\\local\\programs\\python\\python39\\lib\\site-packages (from selenium) (0.10.3)\n",
      "Requirement already satisfied: certifi>=2021.10.8 in c:\\users\\ssafy\\appdata\\local\\programs\\python\\python39\\lib\\site-packages (from selenium) (2023.7.22)\n",
      "Requirement already satisfied: urllib3[socks]<3,>=1.26 in c:\\users\\ssafy\\appdata\\local\\programs\\python\\python39\\lib\\site-packages (from selenium) (2.0.4)\n",
      "Requirement already satisfied: cffi>=1.14 in c:\\users\\ssafy\\appdata\\local\\programs\\python\\python39\\lib\\site-packages (from trio~=0.17->selenium) (1.15.1)\n",
      "Requirement already satisfied: outcome in c:\\users\\ssafy\\appdata\\local\\programs\\python\\python39\\lib\\site-packages (from trio~=0.17->selenium) (1.2.0)\n",
      "Requirement already satisfied: exceptiongroup>=1.0.0rc9 in c:\\users\\ssafy\\appdata\\local\\programs\\python\\python39\\lib\\site-packages (from trio~=0.17->selenium) (1.1.3)\n",
      "Requirement already satisfied: idna in c:\\users\\ssafy\\appdata\\local\\programs\\python\\python39\\lib\\site-packages (from trio~=0.17->selenium) (3.4)\n",
      "Requirement already satisfied: attrs>=20.1.0 in c:\\users\\ssafy\\appdata\\local\\programs\\python\\python39\\lib\\site-packages (from trio~=0.17->selenium) (23.1.0)\n",
      "Requirement already satisfied: sniffio in c:\\users\\ssafy\\appdata\\local\\programs\\python\\python39\\lib\\site-packages (from trio~=0.17->selenium) (1.3.0)\n",
      "Requirement already satisfied: sortedcontainers in c:\\users\\ssafy\\appdata\\local\\programs\\python\\python39\\lib\\site-packages (from trio~=0.17->selenium) (2.4.0)\n",
      "Requirement already satisfied: wsproto>=0.14 in c:\\users\\ssafy\\appdata\\local\\programs\\python\\python39\\lib\\site-packages (from trio-websocket~=0.9->selenium) (1.2.0)\n",
      "Requirement already satisfied: pysocks!=1.5.7,<2.0,>=1.5.6 in c:\\users\\ssafy\\appdata\\local\\programs\\python\\python39\\lib\\site-packages (from urllib3[socks]<3,>=1.26->selenium) (1.7.1)\n",
      "Requirement already satisfied: pycparser in c:\\users\\ssafy\\appdata\\local\\programs\\python\\python39\\lib\\site-packages (from cffi>=1.14->trio~=0.17->selenium) (2.21)\n",
      "Requirement already satisfied: h11<1,>=0.9.0 in c:\\users\\ssafy\\appdata\\local\\programs\\python\\python39\\lib\\site-packages (from wsproto>=0.14->trio-websocket~=0.9->selenium) (0.14.0)\n"
     ]
    },
    {
     "name": "stderr",
     "output_type": "stream",
     "text": [
      "WARNING: You are using pip version 22.0.4; however, version 23.2.1 is available.\n",
      "You should consider upgrading via the 'C:\\Users\\SSAFY\\AppData\\Local\\Programs\\Python\\Python39\\python.exe -m pip install --upgrade pip' command.\n"
     ]
    }
   ],
   "source": [
    "!pip install selenium"
   ]
  },
  {
   "cell_type": "code",
   "execution_count": 31,
   "metadata": {},
   "outputs": [
    {
     "name": "stdout",
     "output_type": "stream",
     "text": [
      "Note: you may need to restart the kernel to use updated packages.\n"
     ]
    },
    {
     "name": "stderr",
     "output_type": "stream",
     "text": [
      "WARNING: Skipping undetected_chromedriver as it is not installed.\n"
     ]
    }
   ],
   "source": [
    "pip uninstall undetected_chromedriver"
   ]
  },
  {
   "cell_type": "code",
   "execution_count": 32,
   "metadata": {},
   "outputs": [
    {
     "name": "stdout",
     "output_type": "stream",
     "text": [
      "Obtaining undetected_chromedriver from git+https://github.com/jdholtz/undetected-chromedriver.git@f91b7d86bc257d4cb9bfc848266e82509868e2c6#egg=undetected_chromedriver\n",
      "  Cloning https://github.com/jdholtz/undetected-chromedriver.git (to revision f91b7d86bc257d4cb9bfc848266e82509868e2c6) to c:\\users\\ssafy\\desktop\\crawling\\chromedriver_win32\\src\\undetected-chromedriver\n",
      "  Resolved https://github.com/jdholtz/undetected-chromedriver.git to commit f91b7d86bc257d4cb9bfc848266e82509868e2c6\n",
      "  Preparing metadata (setup.py): started\n",
      "  Preparing metadata (setup.py): finished with status 'done'\n",
      "Requirement already satisfied: selenium>=4.9.0 in c:\\users\\ssafy\\appdata\\local\\programs\\python\\python39\\lib\\site-packages (from undetected_chromedriver) (4.11.2)\n",
      "Collecting requests\n",
      "  Downloading requests-2.31.0-py3-none-any.whl (62 kB)\n",
      "     ---------------------------------------- 62.6/62.6 KB 3.3 MB/s eta 0:00:00\n",
      "Collecting websockets\n",
      "  Downloading websockets-11.0.3-cp39-cp39-win_amd64.whl (124 kB)\n",
      "     -------------------------------------- 124.7/124.7 KB 3.7 MB/s eta 0:00:00\n",
      "Requirement already satisfied: certifi>=2021.10.8 in c:\\users\\ssafy\\appdata\\local\\programs\\python\\python39\\lib\\site-packages (from selenium>=4.9.0->undetected_chromedriver) (2023.7.22)\n",
      "Requirement already satisfied: trio~=0.17 in c:\\users\\ssafy\\appdata\\local\\programs\\python\\python39\\lib\\site-packages (from selenium>=4.9.0->undetected_chromedriver) (0.22.2)\n",
      "Requirement already satisfied: urllib3[socks]<3,>=1.26 in c:\\users\\ssafy\\appdata\\local\\programs\\python\\python39\\lib\\site-packages (from selenium>=4.9.0->undetected_chromedriver) (2.0.4)\n",
      "Requirement already satisfied: trio-websocket~=0.9 in c:\\users\\ssafy\\appdata\\local\\programs\\python\\python39\\lib\\site-packages (from selenium>=4.9.0->undetected_chromedriver) (0.10.3)\n",
      "Requirement already satisfied: idna<4,>=2.5 in c:\\users\\ssafy\\appdata\\local\\programs\\python\\python39\\lib\\site-packages (from requests->undetected_chromedriver) (3.4)\n",
      "Collecting charset-normalizer<4,>=2\n",
      "  Downloading charset_normalizer-3.2.0-cp39-cp39-win_amd64.whl (96 kB)\n",
      "     ---------------------------------------- 96.9/96.9 KB 5.4 MB/s eta 0:00:00\n",
      "Requirement already satisfied: cffi>=1.14 in c:\\users\\ssafy\\appdata\\local\\programs\\python\\python39\\lib\\site-packages (from trio~=0.17->selenium>=4.9.0->undetected_chromedriver) (1.15.1)\n",
      "Requirement already satisfied: sniffio in c:\\users\\ssafy\\appdata\\local\\programs\\python\\python39\\lib\\site-packages (from trio~=0.17->selenium>=4.9.0->undetected_chromedriver) (1.3.0)\n",
      "Requirement already satisfied: attrs>=20.1.0 in c:\\users\\ssafy\\appdata\\local\\programs\\python\\python39\\lib\\site-packages (from trio~=0.17->selenium>=4.9.0->undetected_chromedriver) (23.1.0)\n",
      "Requirement already satisfied: exceptiongroup>=1.0.0rc9 in c:\\users\\ssafy\\appdata\\local\\programs\\python\\python39\\lib\\site-packages (from trio~=0.17->selenium>=4.9.0->undetected_chromedriver) (1.1.3)\n",
      "Requirement already satisfied: outcome in c:\\users\\ssafy\\appdata\\local\\programs\\python\\python39\\lib\\site-packages (from trio~=0.17->selenium>=4.9.0->undetected_chromedriver) (1.2.0)\n",
      "Requirement already satisfied: sortedcontainers in c:\\users\\ssafy\\appdata\\local\\programs\\python\\python39\\lib\\site-packages (from trio~=0.17->selenium>=4.9.0->undetected_chromedriver) (2.4.0)\n",
      "Requirement already satisfied: wsproto>=0.14 in c:\\users\\ssafy\\appdata\\local\\programs\\python\\python39\\lib\\site-packages (from trio-websocket~=0.9->selenium>=4.9.0->undetected_chromedriver) (1.2.0)\n",
      "Requirement already satisfied: pysocks!=1.5.7,<2.0,>=1.5.6 in c:\\users\\ssafy\\appdata\\local\\programs\\python\\python39\\lib\\site-packages (from urllib3[socks]<3,>=1.26->selenium>=4.9.0->undetected_chromedriver) (1.7.1)\n",
      "Requirement already satisfied: pycparser in c:\\users\\ssafy\\appdata\\local\\programs\\python\\python39\\lib\\site-packages (from cffi>=1.14->trio~=0.17->selenium>=4.9.0->undetected_chromedriver) (2.21)\n",
      "Requirement already satisfied: h11<1,>=0.9.0 in c:\\users\\ssafy\\appdata\\local\\programs\\python\\python39\\lib\\site-packages (from wsproto>=0.14->trio-websocket~=0.9->selenium>=4.9.0->undetected_chromedriver) (0.14.0)\n",
      "Installing collected packages: websockets, charset-normalizer, requests, undetected_chromedriver\n",
      "  Running setup.py develop for undetected_chromedriver\n",
      "Successfully installed charset-normalizer-3.2.0 requests-2.31.0 undetected_chromedriver-3.5.2 websockets-11.0.3\n",
      "Note: you may need to restart the kernel to use updated packages.\n"
     ]
    },
    {
     "name": "stderr",
     "output_type": "stream",
     "text": [
      "  Running command git clone --filter=blob:none --quiet https://github.com/jdholtz/undetected-chromedriver.git 'c:\\Users\\SSAFY\\Desktop\\crawling\\chromedriver_win32\\src\\undetected-chromedriver'\n",
      "  Running command git rev-parse -q --verify 'sha^f91b7d86bc257d4cb9bfc848266e82509868e2c6'\n",
      "  Running command git fetch -q https://github.com/jdholtz/undetected-chromedriver.git f91b7d86bc257d4cb9bfc848266e82509868e2c6\n",
      "  Running command git checkout -q f91b7d86bc257d4cb9bfc848266e82509868e2c6\n",
      "WARNING: You are using pip version 22.0.4; however, version 23.2.1 is available.\n",
      "You should consider upgrading via the 'c:\\Users\\SSAFY\\AppData\\Local\\Programs\\Python\\Python39\\python.exe -m pip install --upgrade pip' command.\n"
     ]
    }
   ],
   "source": [
    "pip install -e git+https://github.com/jdholtz/undetected-chromedriver.git@f91b7d86bc257d4cb9bfc848266e82509868e2c6#egg=undetected_chromedriver"
   ]
  },
  {
   "cell_type": "code",
   "execution_count": 7,
   "metadata": {},
   "outputs": [],
   "source": [
    "from selenium import webdriver\n",
    "\n",
    "from selenium.webdriver.common.by import By\n",
    "from selenium.common.exceptions import NoSuchWindowException"
   ]
  },
  {
   "cell_type": "code",
   "execution_count": 34,
   "metadata": {},
   "outputs": [],
   "source": []
  },
  {
   "cell_type": "code",
   "execution_count": 13,
   "metadata": {},
   "outputs": [],
   "source": [
    "import csv\n",
    "from selenium import webdriver\n",
    "from selenium.webdriver.chrome.options import Options\n",
    "from selenium.webdriver.common.by import By\n",
    "from selenium.common.exceptions import NoSuchWindowException\n",
    "\n",
    "chrome_options = Options()\n",
    "chrome_options.add_experimental_option(\"detach\", True)\n",
    "chrome_options.add_experimental_option('excludeSwitches', [\"enable-logging\"])\n",
    "\n",
    "chrome_options.add_argument('--start-maximized')\n",
    "chrome_options.add_argument(\"disable-infobars\")\n",
    "\n",
    "# 웹 드라이버 초기화\n",
    "driver = webdriver.Chrome(options=chrome_options)\n",
    "\n",
    "card_file_path = \"C:/Users/SSAFY/Desktop/crawling/chromedriver_win32/data/card_data.csv\"\n",
    "card_file = open(card_file_path, 'w', encoding=\"cp949\", newline='')\n",
    "card_data = csv.writer(card_file)\n",
    "\n",
    "benefit_file_path = \"C:\\\\Users\\\\SSAFY\\\\Desktop\\\\crawling\\\\chromedriver_win32\\\\data\\\\card_benefit.csv\"\n",
    "benefit_file = open(benefit_file_path, 'w', encoding=\"cp949\", newline='')\n",
    "benefit_data = csv.writer(benefit_file)\n",
    "\n",
    "card_id = 2434\n",
    "\n",
    "# 2572\n",
    "for i in range(2435, 2437):\n",
    "    try:\n",
    "        driver.get(f\"https://www.card-gorilla.com/card/detail/{i}\")\n",
    "\n",
    "        driver.execute_script('document.querySelector(\"#q-app > header\").style.visibility = \"hidden\";')\n",
    "\n",
    "        card_id += 1\n",
    "\n",
    "        card_name = driver.find_element(By.CSS_SELECTOR, '#q-app > section > div.card_detail.fr-view > section > div > article.card_top > div > div > div.data_area > div.tit > strong')\n",
    "        card_name = card_name.text\n",
    "\n",
    "        card_brand = driver.find_element(By.CSS_SELECTOR, '#q-app > section > div.card_detail.fr-view > section > div > article.card_top > div > div > div.data_area > div.tit > p')\n",
    "        card_brand = card_brand.text\n",
    "\n",
    "        card_image = driver.find_element(By.CSS_SELECTOR, '#q-app > section > div.card_detail.fr-view > section > div > article.card_top > div > div > div.card_img > img')\n",
    "        card_image = card_image.get_attribute('src')\n",
    "\n",
    "        card_in_out = driver.find_element(By.CSS_SELECTOR, '#q-app > section > div.card_detail.fr-view > section > div > article.card_top > div > div > div.data_area > div.bnf2 > dl:nth-child(1) > dd.in_out')\n",
    "        card_in_out = card_in_out.text\n",
    "\n",
    "        card_record = driver.find_element(By.CSS_SELECTOR, '#q-app > section > div.card_detail.fr-view > section > div > article.card_top > div > div > div.data_area > div.bnf2 > dl:nth-child(2)')\n",
    "        card_record = card_record.text\n",
    "\n",
    "        try:\n",
    "            card_type = driver.find_element(By.CSS_SELECTOR, '#q-app > section > div.card_detail.fr-view > section > div > article.card_top > div > div > div.data_area > div.bnf2 > dl:nth-child(3) > dd')\n",
    "            card_type = card_type.text\n",
    "\n",
    "        except  : \n",
    "            NoSuchWindowException\n",
    "            card_type = None\n",
    "\n",
    "    \n",
    "        card_data.writerow([card_id, card_name, card_brand, card_in_out, card_image, card_record, card_type])\n",
    "\n",
    "        benefit_name = driver.find_elements(By.CSS_SELECTOR, '#q-app > section > div.card_detail.fr-view > section > div > article.cmd_con.benefit > div.lst.inner.faq_area > dl > dt > strong')\n",
    "        benefit_content = driver.find_elements(By.CSS_SELECTOR, '#q-app > section > div.card_detail.fr-view > section > div > article.cmd_con.benefit > div.lst.inner.faq_area > dl > dt > i')\n",
    "\n",
    "        benefit_click = driver.find_elements(By.CSS_SELECTOR, '#q-app > section.contentArea > div.card.detail.fr-view > section > div > article.cmd_con.benefit > div.lst.inner.faq-area > dl > dt' )\n",
    "\n",
    "        for i in range(len(benefit_name)):\n",
    "            bnf_name = benefit_name[i].text\n",
    "            bnf_content = benefit_content[i].text\n",
    "            benefit_click[i].click()\n",
    "            benefit_content_all = driver.find_elements(By.CSS_SELECTOR, \"#q-app > section > div.card_detail.fr-view > section > div > article.cmd_con.benefit > div.lst.inner.faq_area > dl.on > dd > div\")\n",
    "            bnf_content_all = benefit_content_all[i].text\n",
    "            benefit_data.writerow([card_id, bnf_name, bnf_content, bnf_content_all])\n",
    "\n",
    "    except:\n",
    "        continue\n",
    "\n",
    "driver.quit()"
   ]
  },
  {
   "cell_type": "code",
   "execution_count": 2,
   "metadata": {},
   "outputs": [],
   "source": []
  },
  {
   "cell_type": "code",
   "execution_count": null,
   "metadata": {},
   "outputs": [],
   "source": []
  }
 ],
 "metadata": {
  "kernelspec": {
   "display_name": "Python 3",
   "language": "python",
   "name": "python3"
  },
  "language_info": {
   "codemirror_mode": {
    "name": "ipython",
    "version": 3
   },
   "file_extension": ".py",
   "mimetype": "text/x-python",
   "name": "python",
   "nbconvert_exporter": "python",
   "pygments_lexer": "ipython3",
   "version": "3.9.13"
  },
  "orig_nbformat": 4
 },
 "nbformat": 4,
 "nbformat_minor": 2
}
